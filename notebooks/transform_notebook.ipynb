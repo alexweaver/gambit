{
 "cells": [
  {
   "cell_type": "code",
   "execution_count": 1,
   "metadata": {
    "collapsed": true
   },
   "outputs": [],
   "source": [
    "import dill as pickle\n",
    "\n",
    "abt = None\n",
    "with open('gambit_raw_abt_20161106.p', 'rb') as f:\n",
    "    abt = pickle.load(f)"
   ]
  },
  {
   "cell_type": "code",
   "execution_count": 13,
   "metadata": {
    "collapsed": true
   },
   "outputs": [],
   "source": [
    "mechanics = set().union(*abt['categories'])"
   ]
  },
  {
   "cell_type": "code",
   "execution_count": 14,
   "metadata": {
    "collapsed": false
   },
   "outputs": [
    {
     "data": {
      "text/plain": [
       "84"
      ]
     },
     "execution_count": 14,
     "metadata": {},
     "output_type": "execute_result"
    }
   ],
   "source": [
    "len(mechanics)"
   ]
  },
  {
   "cell_type": "code",
   "execution_count": 15,
   "metadata": {
    "collapsed": false
   },
   "outputs": [
    {
     "data": {
      "text/plain": [
       "{'Abstract Strategy',\n",
       " 'Action / Dexterity',\n",
       " 'Adventure',\n",
       " 'Age of Reason',\n",
       " 'American Civil War',\n",
       " 'American Indian Wars',\n",
       " 'American Revolutionary War',\n",
       " 'American West',\n",
       " 'Ancient',\n",
       " 'Animals',\n",
       " 'Arabian',\n",
       " 'Aviation / Flight',\n",
       " 'Bluffing',\n",
       " 'Book',\n",
       " 'Card Game',\n",
       " \"Children's Game\",\n",
       " 'City Building',\n",
       " 'Civil War',\n",
       " 'Civilization',\n",
       " 'Collectible Components',\n",
       " 'Comic Book / Strip',\n",
       " 'Deduction',\n",
       " 'Dice',\n",
       " 'Economic',\n",
       " 'Educational',\n",
       " 'Electronic',\n",
       " 'Environmental',\n",
       " 'Expansion for Base-game',\n",
       " 'Exploration',\n",
       " 'Fan Expansion',\n",
       " 'Fantasy',\n",
       " 'Farming',\n",
       " 'Fighting',\n",
       " 'Game System',\n",
       " 'Horror',\n",
       " 'Humor',\n",
       " 'Industry / Manufacturing',\n",
       " 'Korean War',\n",
       " 'Mafia',\n",
       " 'Math',\n",
       " 'Mature / Adult',\n",
       " 'Maze',\n",
       " 'Medical',\n",
       " 'Medieval',\n",
       " 'Memory',\n",
       " 'Miniatures',\n",
       " 'Modern Warfare',\n",
       " 'Movies / TV / Radio theme',\n",
       " 'Murder/Mystery',\n",
       " 'Music',\n",
       " 'Mythology',\n",
       " 'Napoleonic',\n",
       " 'Nautical',\n",
       " 'Negotiation',\n",
       " 'Novel-based',\n",
       " 'Number',\n",
       " 'Party Game',\n",
       " 'Pike and Shot',\n",
       " 'Pirates',\n",
       " 'Political',\n",
       " 'Post-Napoleonic',\n",
       " 'Prehistoric',\n",
       " 'Print & Play',\n",
       " 'Puzzle',\n",
       " 'Racing',\n",
       " 'Real-time',\n",
       " 'Religious',\n",
       " 'Renaissance',\n",
       " 'Science Fiction',\n",
       " 'Space Exploration',\n",
       " 'Spies/Secret Agents',\n",
       " 'Sports',\n",
       " 'Territory Building',\n",
       " 'Trains',\n",
       " 'Transportation',\n",
       " 'Travel',\n",
       " 'Trivia',\n",
       " 'Video Game Theme',\n",
       " 'Vietnam War',\n",
       " 'Wargame',\n",
       " 'Word Game',\n",
       " 'World War I',\n",
       " 'World War II',\n",
       " 'Zombies'}"
      ]
     },
     "execution_count": 15,
     "metadata": {},
     "output_type": "execute_result"
    }
   ],
   "source": [
    "mechanics"
   ]
  },
  {
   "cell_type": "code",
   "execution_count": null,
   "metadata": {
    "collapsed": true
   },
   "outputs": [],
   "source": []
  }
 ],
 "metadata": {
  "kernelspec": {
   "display_name": "Python [conda root]",
   "language": "python",
   "name": "conda-root-py"
  },
  "language_info": {
   "codemirror_mode": {
    "name": "ipython",
    "version": 2
   },
   "file_extension": ".py",
   "mimetype": "text/x-python",
   "name": "python",
   "nbconvert_exporter": "python",
   "pygments_lexer": "ipython2",
   "version": "2.7.12"
  }
 },
 "nbformat": 4,
 "nbformat_minor": 1
}
