{
 "cells": [
  {
   "cell_type": "code",
   "execution_count": 1,
   "metadata": {
    "collapsed": false
   },
   "outputs": [],
   "source": [
    "%reload_ext autoreload\n",
    "%autoreload 2\n",
    "\n",
    "from IPython.display import clear_output"
   ]
  },
  {
   "cell_type": "code",
   "execution_count": 2,
   "metadata": {
    "collapsed": false,
    "scrolled": true
   },
   "outputs": [],
   "source": [
    "import os\n",
    "import sys\n",
    "\n",
    "sys.path.append('..')\n",
    "\n",
    "from src.data.boardgame_resource import BoardgameResource"
   ]
  },
  {
   "cell_type": "code",
   "execution_count": null,
   "metadata": {
    "collapsed": false
   },
   "outputs": [],
   "source": [
    "from bs4 import BeautifulSoup\n",
    "import re\n",
    "import requests\n",
    "\n",
    "sitemaps = requests.get('http://www.boardgamegeek.com/sitemapindex').content\n",
    "sitemaps = BeautifulSoup(sitemaps, 'lxml').select('sitemapindex > sitemap > loc')\n",
    "sitemaps = [str(s.get_text()) for s in sitemaps]\n",
    "sitemaps = [s.replace('\\n', '') for s in sitemaps]\n",
    "sitemaps = [s.replace('\\t', '') for s in sitemaps]\n",
    "sitemaps = [s for s in sitemaps if 'geekitems_boardgame_' in s]"
   ]
  },
  {
   "cell_type": "code",
   "execution_count": null,
   "metadata": {
    "collapsed": false
   },
   "outputs": [],
   "source": [
    "boardgame_urls = []\n",
    "for sitemap in sitemaps:\n",
    "    sitemap = requests.get(sitemap).content\n",
    "    urls = BeautifulSoup(sitemap, 'lxml').select('urlset > url > loc')\n",
    "    urls = [str(u.get_text()) for u in urls]\n",
    "    urls = [u.replace('\\n', '') for u in urls]\n",
    "    urls = [u.replace('\\t', '') for u in urls]\n",
    "    boardgame_urls.extend(urls)"
   ]
  },
  {
   "cell_type": "code",
   "execution_count": null,
   "metadata": {
    "collapsed": false
   },
   "outputs": [],
   "source": [
    "boardgame_ids = [int(re.compile('[0-9]+').search(u).group(0)) for u in boardgame_urls]"
   ]
  },
  {
   "cell_type": "code",
   "execution_count": null,
   "metadata": {
    "collapsed": false
   },
   "outputs": [],
   "source": [
    "import pickle\n",
    "\n",
    "pickle.dump(boardgame_ids, open('bgids.p', 'w+'))"
   ]
  },
  {
   "cell_type": "code",
   "execution_count": 3,
   "metadata": {
    "collapsed": false
   },
   "outputs": [
    {
     "data": {
      "text/plain": [
       "86855"
      ]
     },
     "execution_count": 3,
     "metadata": {},
     "output_type": "execute_result"
    }
   ],
   "source": [
    "import pickle\n",
    "\n",
    "boardgame_ids = pickle.load(open('bgids.p', 'rb'))\n",
    "len(boardgame_ids)"
   ]
  },
  {
   "cell_type": "code",
   "execution_count": 4,
   "metadata": {
    "collapsed": false
   },
   "outputs": [],
   "source": [
    "from src.data.crawler import Crawler\n",
    "from src.data.schema import Schema\n",
    "save_dir = os.path.join(os.path.dirname(os.getcwd()), 'data', 'raw')"
   ]
  },
  {
   "cell_type": "code",
   "execution_count": 178,
   "metadata": {
    "collapsed": false
   },
   "outputs": [
    {
     "name": "stdout",
     "output_type": "stream",
     "text": [
      "0 1\n"
     ]
    },
    {
     "ename": "NameError",
     "evalue": "name 'Crawler' is not defined",
     "output_type": "error",
     "traceback": [
      "\u001b[0;31m---------------------------------------------------------------------------\u001b[0m",
      "\u001b[0;31mNameError\u001b[0m                                 Traceback (most recent call last)",
      "\u001b[0;32m<ipython-input-178-83aace03db10>\u001b[0m in \u001b[0;36m<module>\u001b[0;34m()\u001b[0m\n\u001b[1;32m      9\u001b[0m \u001b[0;34m\u001b[0m\u001b[0m\n\u001b[1;32m     10\u001b[0m     \u001b[0mschema\u001b[0m \u001b[0;34m=\u001b[0m \u001b[0mSchema\u001b[0m\u001b[0;34m(\u001b[0m\u001b[0mraw_schema\u001b[0m\u001b[0;34m,\u001b[0m \u001b[0;34m{\u001b[0m\u001b[0;34m'id'\u001b[0m\u001b[0;34m:\u001b[0m \u001b[0mid\u001b[0m\u001b[0;34m}\u001b[0m\u001b[0;34m,\u001b[0m \u001b[0msave_dir\u001b[0m\u001b[0;34m)\u001b[0m\u001b[0;34m\u001b[0m\u001b[0m\n\u001b[0;32m---> 11\u001b[0;31m     \u001b[0mCrawler\u001b[0m\u001b[0;34m(\u001b[0m\u001b[0mschema\u001b[0m\u001b[0;34m)\u001b[0m\u001b[0;34m.\u001b[0m\u001b[0mcrawl\u001b[0m\u001b[0;34m(\u001b[0m\u001b[0;34m'stats'\u001b[0m\u001b[0;34m)\u001b[0m\u001b[0;34m\u001b[0m\u001b[0m\n\u001b[0m",
      "\u001b[0;31mNameError\u001b[0m: name 'Crawler' is not defined"
     ]
    }
   ],
   "source": [
    "raw_schema = \\\n",
    "{\n",
    "    'stats': 'https://boardgamegeek.com/xmlapi2/thing?id=%(id)s&stats=1'\n",
    "}\n",
    "\n",
    "for i, id in enumerate(boardgame_ids):\n",
    "    \n",
    "    clear_output()\n",
    "    print i, id\n",
    "    \n",
    "    schema = Schema(raw_schema, {'id': id}, save_dir)\n",
    "    Crawler(schema).crawl('stats')"
   ]
  },
  {
   "cell_type": "code",
   "execution_count": 5,
   "metadata": {
    "collapsed": false
   },
   "outputs": [],
   "source": [
    "from src.data.parser import Parser\n",
    "from src.data.schema import Schema\n",
    "save_dir = os.path.join(os.path.dirname(os.getcwd()), 'data', 'raw')\n",
    "\n",
    "import pandas as pd"
   ]
  },
  {
   "cell_type": "code",
   "execution_count": 6,
   "metadata": {
    "collapsed": false
   },
   "outputs": [],
   "source": [
    "raw_schema = \\\n",
    "{\n",
    "    'stats': 'https://boardgamegeek.com/xmlapi2/thing?id=%(id)s&stats=1'\n",
    "}\n",
    "\n",
    "schema = Schema(raw_schema, {'id': 17}, save_dir)\n",
    "parser = Parser(schema)"
   ]
  },
  {
   "cell_type": "code",
   "execution_count": 10,
   "metadata": {
    "collapsed": false
   },
   "outputs": [],
   "source": [
    "df = pd.DataFrame(columns=list(parser.flatten()))"
   ]
  },
  {
   "cell_type": "code",
   "execution_count": 12,
   "metadata": {
    "collapsed": false
   },
   "outputs": [
    {
     "name": "stdout",
     "output_type": "stream",
     "text": [
      "86000 208006\n"
     ]
    }
   ],
   "source": [
    "raw_schema = \\\n",
    "{\n",
    "    'stats': 'https://boardgamegeek.com/xmlapi2/thing?id=%(id)s&stats=1'\n",
    "}\n",
    "\n",
    "for i, id in enumerate(boardgame_ids):\n",
    "    \n",
    "    if i % 1000 == 0:\n",
    "        clear_output()\n",
    "        print i, id\n",
    "    \n",
    "    schema = Schema(raw_schema, {'id': id}, save_dir)\n",
    "    row = Parser(schema).flatten()\n",
    "    df = df.append(row, ignore_index=True)"
   ]
  },
  {
   "cell_type": "code",
   "execution_count": 13,
   "metadata": {
    "collapsed": false
   },
   "outputs": [
    {
     "data": {
      "text/plain": [
       "datetime.datetime(2016, 11, 6, 10, 25, 20, 949610)"
      ]
     },
     "execution_count": 13,
     "metadata": {},
     "output_type": "execute_result"
    }
   ],
   "source": [
    "from datetime import datetime\n",
    "datetime.now()"
   ]
  },
  {
   "cell_type": "code",
   "execution_count": 14,
   "metadata": {
    "collapsed": false
   },
   "outputs": [],
   "source": [
    "import dill as pickle\n",
    "\n",
    "with open('gambit_raw_abt_20161106.p', 'wb+') as f:\n",
    "    pickle.dump(df, f)"
   ]
  },
  {
   "cell_type": "code",
   "execution_count": 25,
   "metadata": {
    "collapsed": false
   },
   "outputs": [],
   "source": [
    "mechanics = set().union(*df['mechanics'])"
   ]
  },
  {
   "cell_type": "code",
   "execution_count": 26,
   "metadata": {
    "collapsed": false
   },
   "outputs": [
    {
     "data": {
      "text/plain": [
       "{'Acting',\n",
       " 'Action / Movement Programming',\n",
       " 'Action Point Allowance System',\n",
       " 'Area Control / Area Influence',\n",
       " 'Area Enclosure',\n",
       " 'Area Movement',\n",
       " 'Area-Impulse',\n",
       " 'Auction/Bidding',\n",
       " 'Betting/Wagering',\n",
       " 'Campaign / Battle Card Driven',\n",
       " 'Card Drafting',\n",
       " 'Chit-Pull System',\n",
       " 'Co-operative Play',\n",
       " 'Commodity Speculation',\n",
       " 'Crayon Rail System',\n",
       " 'Deck / Pool Building',\n",
       " 'Dice Rolling',\n",
       " 'Grid Movement',\n",
       " 'Hand Management',\n",
       " 'Hex-and-Counter',\n",
       " 'Line Drawing',\n",
       " 'Memory',\n",
       " 'Modular Board',\n",
       " 'Paper-and-Pencil',\n",
       " 'Partnerships',\n",
       " 'Pattern Building',\n",
       " 'Pattern Recognition',\n",
       " 'Pick-up and Deliver',\n",
       " 'Player Elimination',\n",
       " 'Point to Point Movement',\n",
       " 'Press Your Luck',\n",
       " 'Rock-Paper-Scissors',\n",
       " 'Role Playing',\n",
       " 'Roll / Spin and Move',\n",
       " 'Route/Network Building',\n",
       " 'Secret Unit Deployment',\n",
       " 'Set Collection',\n",
       " 'Simulation',\n",
       " 'Simultaneous Action Selection',\n",
       " 'Singing',\n",
       " 'Stock Holding',\n",
       " 'Storytelling',\n",
       " 'Take That',\n",
       " 'Tile Placement',\n",
       " 'Time Track',\n",
       " 'Trading',\n",
       " 'Trick-taking',\n",
       " 'Variable Phase Order',\n",
       " 'Variable Player Powers',\n",
       " 'Voting',\n",
       " 'Worker Placement'}"
      ]
     },
     "execution_count": 26,
     "metadata": {},
     "output_type": "execute_result"
    }
   ],
   "source": [
    "mechanics"
   ]
  },
  {
   "cell_type": "code",
   "execution_count": null,
   "metadata": {
    "collapsed": true
   },
   "outputs": [],
   "source": []
  }
 ],
 "metadata": {
  "anaconda-cloud": {},
  "kernelspec": {
   "display_name": "Python [conda root]",
   "language": "python",
   "name": "conda-root-py"
  },
  "language_info": {
   "codemirror_mode": {
    "name": "ipython",
    "version": 2
   },
   "file_extension": ".py",
   "mimetype": "text/x-python",
   "name": "python",
   "nbconvert_exporter": "python",
   "pygments_lexer": "ipython2",
   "version": "2.7.12"
  }
 },
 "nbformat": 4,
 "nbformat_minor": 1
}
